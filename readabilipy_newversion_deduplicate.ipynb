{
  "nbformat": 4,
  "nbformat_minor": 0,
  "metadata": {
    "colab": {
      "provenance": []
    },
    "kernelspec": {
      "name": "python3",
      "display_name": "Python 3"
    },
    "language_info": {
      "name": "python"
    }
  },
  "cells": [
    {
      "cell_type": "code",
      "source": [
        "urls = [\"https://www.nytimes.com/2024/09/29/us/north-carolina-helene-relief-damage.html\",\"https://www.faz.net/aktuell/wirtschaft/kuenstliche-intelligenz/today-s-ai-can-t-be-trusted-19532136.html\",\"http://www.chinatoday.com.cn/ctenglish/2018/commentaries/202409/t20240925_800378506.html\",\"https://english.elpais.com/economy-and-business/2024-09-28/from-the-hermes-heir-to-nicolas-cage-millionaires-who-went-bankrupt.html\",\"https://insatiable.info/2023/06/30/quels-futur-pour-les-reseaux-sociaux/\",\"https://actu.fr/auvergne-rhone-alpes/lyon_69123/lyon-le-projet-de-reamenagement-des-quais-les-plus-mortels-pour-les-cyclistes-devoile_61667371.html\"]"
      ],
      "metadata": {
        "id": "RfLxuLynRa1_"
      },
      "execution_count": 7,
      "outputs": []
    },
    {
      "cell_type": "code",
      "source": [
        "!pip install readabilipy"
      ],
      "metadata": {
        "colab": {
          "base_uri": "https://localhost:8080/"
        },
        "id": "mERpiwGd9Z-r",
        "outputId": "34335868-9be6-449f-b252-c791a401af13"
      },
      "execution_count": 10,
      "outputs": [
        {
          "output_type": "stream",
          "name": "stdout",
          "text": [
            "Collecting readabilipy\n",
            "  Downloading readabilipy-0.2.0-py3-none-any.whl.metadata (8.9 kB)\n",
            "Requirement already satisfied: beautifulsoup4>=4.7.1 in /usr/local/lib/python3.10/dist-packages (from readabilipy) (4.12.3)\n",
            "Requirement already satisfied: html5lib in /usr/local/lib/python3.10/dist-packages (from readabilipy) (1.1)\n",
            "Requirement already satisfied: lxml in /usr/local/lib/python3.10/dist-packages (from readabilipy) (4.9.4)\n",
            "Requirement already satisfied: regex in /usr/local/lib/python3.10/dist-packages (from readabilipy) (2024.9.11)\n",
            "Requirement already satisfied: soupsieve>1.2 in /usr/local/lib/python3.10/dist-packages (from beautifulsoup4>=4.7.1->readabilipy) (2.6)\n",
            "Requirement already satisfied: six>=1.9 in /usr/local/lib/python3.10/dist-packages (from html5lib->readabilipy) (1.16.0)\n",
            "Requirement already satisfied: webencodings in /usr/local/lib/python3.10/dist-packages (from html5lib->readabilipy) (0.5.1)\n",
            "Downloading readabilipy-0.2.0-py3-none-any.whl (4.3 MB)\n",
            "\u001b[2K   \u001b[90m━━━━━━━━━━━━━━━━━━━━━━━━━━━━━━━━━━━━━━━━\u001b[0m \u001b[32m4.3/4.3 MB\u001b[0m \u001b[31m45.3 MB/s\u001b[0m eta \u001b[36m0:00:00\u001b[0m\n",
            "\u001b[?25hInstalling collected packages: readabilipy\n",
            "Successfully installed readabilipy-0.2.0\n"
          ]
        }
      ]
    },
    {
      "cell_type": "code",
      "source": [
        "import requests\n",
        "from bs4 import BeautifulSoup\n",
        "import json\n",
        "from readabilipy import simple_json_from_html_string\n",
        "def get_url_list() -> list:\n",
        "    \"\"\"\n",
        "    Get the list of URLs from the JSON file.\n",
        "\n",
        "    Returns:\n",
        "    list: A list of URLs to scrape.\n",
        "    \"\"\"\n",
        "    path = './data/url_list.json'\n",
        "    with open(path, 'r') as f:\n",
        "        data = json.load(f)\n",
        "\n",
        "    return data['urls']\n",
        "\n",
        "def get_article_simple(url) -> bytes:\n",
        "    \"\"\"\n",
        "    Get the HTML of the article from the URL.\n",
        "    Args:\n",
        "        url: url of the page to scrape\n",
        "\n",
        "    Returns:\n",
        "        bytes: The HTML of the article.\n",
        "    \"\"\"\n",
        "\n",
        "    headers = {\n",
        "        'User-Agent': 'Mozilla/5.0 (Windows NT 10.0; Win64; x64) AppleWebKit/537.36 (KHTML, like Gecko) Chrome/58.0.3029.110 Safari/537.3',\n",
        "        'Accept-Language': 'en-US,en;q=0.9',\n",
        "        'Accept-Encoding': 'gzip, deflate, br',\n",
        "        'Connection': 'keep-alive',\n",
        "        'Referer': 'https://www.google.com/'\n",
        "    }\n",
        "    response = requests.get(url, headers=headers)\n",
        "\n",
        "    if response.status_code != 200:\n",
        "        raise Exception(f\"Failed to load page {url}. Error: {response.status_code}\")\n",
        "    response.encoding = response.apparent_encoding\n",
        "    html = response.content\n",
        "\n",
        "    return html\n",
        "def get_title_and_text5(html_content):\n",
        "    html_str = html_content.decode('utf-8')\n",
        "    article = simple_json_from_html_string(html_str, use_readability=True)\n",
        "    title = article.get('title', 'N/A')\n",
        "    plain_text = article.get('plain_text', [])\n",
        "    if plain_text:\n",
        "        text_content = \"\\n\".join([paragraph.get('text', '') for paragraph in plain_text])\n",
        "    else:\n",
        "        text_content = \"N/A\"\n",
        "    return title, text_content"
      ],
      "metadata": {
        "id": "4MndWcSr5gRh"
      },
      "execution_count": 11,
      "outputs": []
    },
    {
      "cell_type": "code",
      "source": [
        "i = 0\n",
        "for url in urls:\n",
        "    i += 1\n",
        "    html_content = get_article_simple(url)\n",
        "    if isinstance(html_content, bytes):\n",
        "            html_content = html_content.decode('utf-8', 'ignore')\n",
        "    else:\n",
        "        html_content = str(html_content).encode('utf-8', 'ignore').decode('utf-8', 'ignore')\n",
        "    article = simple_json_from_html_string(html_content, use_readability=True)\n",
        "\n",
        "    if article:\n",
        "        cleaned_filename = f\"cleaned_article_{i}.txt\"\n",
        "\n",
        "        with open(cleaned_filename, \"w\", encoding=\"utf-8\") as cleaned_file:\n",
        "            cleaned_file.write(f\"Title: {article.get('title', 'N/A')}\\n\\n\")\n",
        "            cleaned_file.write(\"Plain Text:\\n\")\n",
        "            plain_text = article.get('plain_text', [])\n",
        "            if plain_text:\n",
        "                for paragraph in plain_text:\n",
        "                    cleaned_file.write(paragraph.get('text', '') + \"\\n\")\n",
        "            else:\n",
        "                cleaned_file.write(\"N/A\\n\")\n",
        "\n",
        "    else:\n",
        "        print(f\"Failed to download or process the article from {url}\")"
      ],
      "metadata": {
        "id": "QynDDvc7R6hD"
      },
      "execution_count": 16,
      "outputs": []
    },
    {
      "cell_type": "code",
      "source": [
        "!pip install selenium"
      ],
      "metadata": {
        "colab": {
          "base_uri": "https://localhost:8080/"
        },
        "id": "VjTNBxY0Fze5",
        "outputId": "f50a41fd-373c-4c3d-c057-198e36b7db19"
      },
      "execution_count": 5,
      "outputs": [
        {
          "output_type": "stream",
          "name": "stdout",
          "text": [
            "Collecting selenium\n",
            "  Downloading selenium-4.25.0-py3-none-any.whl.metadata (7.1 kB)\n",
            "Requirement already satisfied: urllib3<3,>=1.26 in /usr/local/lib/python3.10/dist-packages (from urllib3[socks]<3,>=1.26->selenium) (2.2.3)\n",
            "Collecting trio~=0.17 (from selenium)\n",
            "  Downloading trio-0.26.2-py3-none-any.whl.metadata (8.6 kB)\n",
            "Collecting trio-websocket~=0.9 (from selenium)\n",
            "  Downloading trio_websocket-0.11.1-py3-none-any.whl.metadata (4.7 kB)\n",
            "Requirement already satisfied: certifi>=2021.10.8 in /usr/local/lib/python3.10/dist-packages (from selenium) (2024.8.30)\n",
            "Requirement already satisfied: typing_extensions~=4.9 in /usr/local/lib/python3.10/dist-packages (from selenium) (4.12.2)\n",
            "Requirement already satisfied: websocket-client~=1.8 in /usr/local/lib/python3.10/dist-packages (from selenium) (1.8.0)\n",
            "Requirement already satisfied: attrs>=23.2.0 in /usr/local/lib/python3.10/dist-packages (from trio~=0.17->selenium) (24.2.0)\n",
            "Requirement already satisfied: sortedcontainers in /usr/local/lib/python3.10/dist-packages (from trio~=0.17->selenium) (2.4.0)\n",
            "Requirement already satisfied: idna in /usr/local/lib/python3.10/dist-packages (from trio~=0.17->selenium) (3.10)\n",
            "Collecting outcome (from trio~=0.17->selenium)\n",
            "  Downloading outcome-1.3.0.post0-py2.py3-none-any.whl.metadata (2.6 kB)\n",
            "Requirement already satisfied: sniffio>=1.3.0 in /usr/local/lib/python3.10/dist-packages (from trio~=0.17->selenium) (1.3.1)\n",
            "Requirement already satisfied: exceptiongroup in /usr/local/lib/python3.10/dist-packages (from trio~=0.17->selenium) (1.2.2)\n",
            "Collecting wsproto>=0.14 (from trio-websocket~=0.9->selenium)\n",
            "  Downloading wsproto-1.2.0-py3-none-any.whl.metadata (5.6 kB)\n",
            "Requirement already satisfied: pysocks!=1.5.7,<2.0,>=1.5.6 in /usr/local/lib/python3.10/dist-packages (from urllib3[socks]<3,>=1.26->selenium) (1.7.1)\n",
            "Collecting h11<1,>=0.9.0 (from wsproto>=0.14->trio-websocket~=0.9->selenium)\n",
            "  Downloading h11-0.14.0-py3-none-any.whl.metadata (8.2 kB)\n",
            "Downloading selenium-4.25.0-py3-none-any.whl (9.7 MB)\n",
            "\u001b[2K   \u001b[90m━━━━━━━━━━━━━━━━━━━━━━━━━━━━━━━━━━━━━━━━\u001b[0m \u001b[32m9.7/9.7 MB\u001b[0m \u001b[31m74.5 MB/s\u001b[0m eta \u001b[36m0:00:00\u001b[0m\n",
            "\u001b[?25hDownloading trio-0.26.2-py3-none-any.whl (475 kB)\n",
            "\u001b[2K   \u001b[90m━━━━━━━━━━━━━━━━━━━━━━━━━━━━━━━━━━━━━━━━\u001b[0m \u001b[32m476.0/476.0 kB\u001b[0m \u001b[31m28.3 MB/s\u001b[0m eta \u001b[36m0:00:00\u001b[0m\n",
            "\u001b[?25hDownloading trio_websocket-0.11.1-py3-none-any.whl (17 kB)\n",
            "Downloading wsproto-1.2.0-py3-none-any.whl (24 kB)\n",
            "Downloading outcome-1.3.0.post0-py2.py3-none-any.whl (10 kB)\n",
            "Downloading h11-0.14.0-py3-none-any.whl (58 kB)\n",
            "\u001b[2K   \u001b[90m━━━━━━━━━━━━━━━━━━━━━━━━━━━━━━━━━━━━━━━━\u001b[0m \u001b[32m58.3/58.3 kB\u001b[0m \u001b[31m4.0 MB/s\u001b[0m eta \u001b[36m0:00:00\u001b[0m\n",
            "\u001b[?25hInstalling collected packages: outcome, h11, wsproto, trio, trio-websocket, selenium\n",
            "Successfully installed h11-0.14.0 outcome-1.3.0.post0 selenium-4.25.0 trio-0.26.2 trio-websocket-0.11.1 wsproto-1.2.0\n"
          ]
        }
      ]
    },
    {
      "cell_type": "code",
      "source": [
        "from selenium import webdriver\n",
        "from selenium.webdriver.chrome.options import Options\n",
        "\n",
        "chrome_options = Options()\n",
        "chrome_options.add_argument(\"--headless\")\n",
        "chrome_options.add_argument(\"--no-sandbox\")\n",
        "chrome_options.add_argument(\"--disable-dev-shm-usage\")\n",
        "chrome_options.add_argument(\"--disable-gpu\")\n",
        "\n",
        "driver = webdriver.Chrome(options=chrome_options)\n",
        "driver.get(urls[5])\n",
        "\n",
        "page_content = driver.page_source\n",
        "driver.quit()\n",
        "\n",
        "soup = BeautifulSoup(page_content, 'html.parser')\n",
        "type(soup)"
      ],
      "metadata": {
        "colab": {
          "base_uri": "https://localhost:8080/",
          "height": 186
        },
        "id": "y0b_AASU_XeE",
        "outputId": "a3f98fed-3fc2-4d58-f625-1fee57c7dff7"
      },
      "execution_count": 12,
      "outputs": [
        {
          "output_type": "execute_result",
          "data": {
            "text/plain": [
              "bs4.BeautifulSoup"
            ],
            "text/html": [
              "<div style=\"max-width:800px; border: 1px solid var(--colab-border-color);\"><style>\n",
              "      pre.function-repr-contents {\n",
              "        overflow-x: auto;\n",
              "        padding: 8px 12px;\n",
              "        max-height: 500px;\n",
              "      }\n",
              "\n",
              "      pre.function-repr-contents.function-repr-contents-collapsed {\n",
              "        cursor: pointer;\n",
              "        max-height: 100px;\n",
              "      }\n",
              "    </style>\n",
              "    <pre style=\"white-space: initial; background:\n",
              "         var(--colab-secondary-surface-color); padding: 8px 12px;\n",
              "         border-bottom: 1px solid var(--colab-border-color);\"><b>bs4.BeautifulSoup</b><br/>def __call__(*args, **kwargs)</pre><pre class=\"function-repr-contents function-repr-contents-collapsed\" style=\"\"><a class=\"filepath\" style=\"display:none\" href=\"#\">/usr/local/lib/python3.10/dist-packages/bs4/__init__.py</a>A data structure representing a parsed HTML or XML document.\n",
              "\n",
              "Most of the methods you&#x27;ll call on a BeautifulSoup object are inherited from\n",
              "PageElement or Tag.\n",
              "\n",
              "Internally, this class defines the basic interface called by the\n",
              "tree builders when converting an HTML/XML document into a data\n",
              "structure. The interface abstracts away the differences between\n",
              "parsers. To write a new tree builder, you&#x27;ll need to understand\n",
              "these methods as a whole.\n",
              "\n",
              "These methods will be called by the BeautifulSoup constructor:\n",
              "  * reset()\n",
              "  * feed(markup)\n",
              "\n",
              "The tree builder may call these methods from its feed() implementation:\n",
              "  * handle_starttag(name, attrs) # See note about return value\n",
              "  * handle_endtag(name)\n",
              "  * handle_data(data) # Appends to the current data node\n",
              "  * endData(containerClass) # Ends the current data node\n",
              "\n",
              "No matter how complicated the underlying parser is, you should be\n",
              "able to build a tree using &#x27;start tag&#x27; events, &#x27;end tag&#x27; events,\n",
              "&#x27;data&#x27; events, and &quot;done with data&quot; events.\n",
              "\n",
              "If you encounter an empty-element tag (aka a self-closing tag,\n",
              "like HTML&#x27;s &lt;br&gt; tag), call handle_starttag and then\n",
              "handle_endtag.</pre>\n",
              "      <script>\n",
              "      if (google.colab.kernel.accessAllowed && google.colab.files && google.colab.files.view) {\n",
              "        for (const element of document.querySelectorAll('.filepath')) {\n",
              "          element.style.display = 'block'\n",
              "          element.onclick = (event) => {\n",
              "            event.preventDefault();\n",
              "            event.stopPropagation();\n",
              "            google.colab.files.view(element.textContent, 76);\n",
              "          };\n",
              "        }\n",
              "      }\n",
              "      for (const element of document.querySelectorAll('.function-repr-contents')) {\n",
              "        element.onclick = (event) => {\n",
              "          event.preventDefault();\n",
              "          event.stopPropagation();\n",
              "          element.classList.toggle('function-repr-contents-collapsed');\n",
              "        };\n",
              "      }\n",
              "      </script>\n",
              "      </div>"
            ]
          },
          "metadata": {},
          "execution_count": 12
        }
      ]
    },
    {
      "cell_type": "code",
      "source": [
        "article = simple_json_from_html_string(str(soup), use_readability=True)  # Convert soup to string\n",
        "i=6\n",
        "if article:\n",
        "    cleaned_filename = f\"cleaned_article_{i}.txt\"\n",
        "    with open(cleaned_filename, \"w\", encoding=\"utf-8\") as cleaned_file:\n",
        "        cleaned_file.write(f\"Title: {article.get('title', 'N/A')}\\n\\n\")\n",
        "        cleaned_file.write(\"Plain Text:\\n\")\n",
        "        plain_text = article.get('plain_text', [])\n",
        "        if plain_text:\n",
        "            for paragraph in plain_text:\n",
        "                cleaned_file.write(paragraph.get('text', '') + \"\\n\")\n",
        "        else:\n",
        "            cleaned_file.write(\"\\n\")\n",
        "else:\n",
        "    print(f\"Failed to download or process the article from {url}\")\n"
      ],
      "metadata": {
        "id": "2jGJOJU_Bi2_"
      },
      "execution_count": 15,
      "outputs": []
    },
    {
      "cell_type": "code",
      "source": [
        "import re\n",
        "from sklearn.feature_extraction.text import TfidfVectorizer\n",
        "from sklearn.metrics.pairwise import cosine_similarity\n",
        "\n",
        "def remove_redundant_paragraphs(text, threshold=0.6):\n",
        "    # Split text into paragraphs\n",
        "    paragraphs = re.split(r'\\n+', text)  # Split paragraphs by newline\n",
        "\n",
        "    # Initialize vectorizer\n",
        "    vectorizer = TfidfVectorizer().fit_transform(paragraphs)\n",
        "    vectors = vectorizer.toarray()\n",
        "\n",
        "    # List to store unique paragraphs\n",
        "    unique_paragraphs = []\n",
        "    redundant_indices = set()\n",
        "\n",
        "    # Compare the similarity of each paragraph\n",
        "    for i in range(len(paragraphs)):\n",
        "        if i in redundant_indices:\n",
        "            continue  # Skip if already marked as redundant\n",
        "\n",
        "        unique_paragraphs.append(paragraphs[i])  # Keep the first occurrence of a paragraph\n",
        "\n",
        "        for j in range(i + 1, len(paragraphs)):\n",
        "            # Calculate similarity\n",
        "            sim_score = cosine_similarity([vectors[i]], [vectors[j]])[0][0]\n",
        "            if sim_score > threshold:  # Mark as redundant if similarity exceeds threshold\n",
        "                redundant_indices.add(j)\n",
        "\n",
        "    # Combine unique paragraphs back into text\n",
        "    cleaned_text = \"\\n\".join(unique_paragraphs)\n",
        "    return cleaned_text\n",
        "\n",
        "# Read the example text from a .txt file\n",
        "file_path = \"/content/cleaned_article_6.txt\"  # Replace with your file path\n",
        "\n",
        "with open(file_path, \"r\", encoding=\"utf-8\") as file:\n",
        "    text = file.read()\n",
        "\n",
        "# Remove redundant paragraphs\n",
        "cleaned_text = remove_redundant_paragraphs(text)\n",
        "\n",
        "# Save cleaned text to a new .txt file\n",
        "output_file_path = \"cleaned_text_for6_version2.txt\"\n",
        "with open(output_file_path, \"w\", encoding=\"utf-8\") as output_file:\n",
        "    output_file.write(cleaned_text)\n",
        "\n",
        "print(\"Redundant paragraphs removed. Cleaned text saved to\", output_file_path)\n"
      ],
      "metadata": {
        "colab": {
          "base_uri": "https://localhost:8080/"
        },
        "id": "wgXVEFIKCPEC",
        "outputId": "3d8061b9-f32e-47cd-8213-f8b42fbcbd94"
      },
      "execution_count": 16,
      "outputs": [
        {
          "output_type": "stream",
          "name": "stdout",
          "text": [
            "Redundant paragraphs removed. Cleaned text saved to cleaned_text_for6_version2.txt\n"
          ]
        }
      ]
    },
    {
      "cell_type": "code",
      "source": [
        "import matplotlib.pyplot as plt\n",
        "\n",
        "# Define the list of file paths and their corresponding labels\n",
        "file_paths = [\n",
        "    (\"/content/06.txt\", \"Test Text\"),\n",
        "    (\"/content/cleaned_article_6.txt\", \"Text Before Deduplication\"),\n",
        "    (\"/content/cleaned_text_for6_version2.txt\", \"Text After Deduplication\")\n",
        "]\n",
        "\n",
        "# Initialize a dictionary to store word counts for each file\n",
        "word_counts = {}\n",
        "\n",
        "# Count words for each file\n",
        "for file_path, label in file_paths:\n",
        "    with open(file_path, \"r\", encoding=\"utf-8\") as file:\n",
        "        text = file.read()\n",
        "        word_counts[label] = len(text.split())\n",
        "\n",
        "# Plotting the word counts as a bar chart\n",
        "plt.figure(figsize=(10, 6))\n",
        "plt.bar(word_counts.keys(), word_counts.values())\n",
        "plt.xlabel(\"File\")\n",
        "plt.ylabel(\"Word Count\")\n",
        "plt.title(\"Word Counts for Each File\")\n",
        "plt.savefig(\"word_count_bar_chart.png\")  # Save the figure\n",
        "plt.show()\n",
        "\n",
        "word_counts  # Display the word count for each file\n"
      ],
      "metadata": {
        "colab": {
          "base_uri": "https://localhost:8080/",
          "height": 611
        },
        "id": "u0gvCc7kHHqf",
        "outputId": "0c5e44b7-588d-4fba-ee0d-cc4e4ca28722"
      },
      "execution_count": 18,
      "outputs": [
        {
          "output_type": "display_data",
          "data": {
            "text/plain": [
              "<Figure size 1000x600 with 1 Axes>"
            ],
            "image/png": "[encoded data removed]"
          },
          "metadata": {}
        },
        {
          "output_type": "execute_result",
          "data": {
            "text/plain": [
              "{'Test Text': 523,\n",
              " 'Text Before Deduplication': 3149,\n",
              " 'Text After Deduplication': 1042}"
            ]
          },
          "metadata": {},
          "execution_count": 18
        }
      ]
    }
  ]
}